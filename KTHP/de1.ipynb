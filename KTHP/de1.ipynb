{
 "cells": [
  {
   "cell_type": "code",
   "execution_count": 1,
   "id": "46ff7639",
   "metadata": {},
   "outputs": [],
   "source": [
    "import pandas as pd\n",
    "import numpy as np\n",
    "import matplotlib.pyplot as plt\n",
    "import math"
   ]
  },
  {
   "cell_type": "code",
   "execution_count": 2,
   "id": "352f27bf",
   "metadata": {},
   "outputs": [],
   "source": [
    "# Câu 1.\n",
    "# Hàm nhập n\n",
    "def Nhap_n():\n",
    "    while True:\n",
    "        n = input(\"Nhập mốt số nguyên dương: \")\n",
    "        if not n.isdigit() or int(n) < 0:\n",
    "            print(\"Bạn phải nhập đúng yêu cầu, vui lòng nhập lại!\")\n",
    "            continue\n",
    "        return int(n)\n",
    "\n",
    "# Hàm nhập list\n",
    "def Nhap_list(n):\n",
    "    while True:\n",
    "        try:\n",
    "            while True:\n",
    "                a = list(map(float, input(f\"Nhập {n} số thực cách nhau bởi dấu ',': \").split(',')))\n",
    "                if len(a) == n:\n",
    "                    break\n",
    "                else:\n",
    "                    print(f\"Vui lòng chỉ nhập đúng {n} số thực!\")\n",
    "                    continue\n",
    "            return a\n",
    "        except:\n",
    "            print(\"Bạn phải nhập đúng theo yêu cầu!\")\n",
    "\n",
    "# Hàm nhập từ điển\n",
    "def Nhap_dict(a, n):\n",
    "    while True:\n",
    "        val = list(map(int, input(f\"Nhập {n} key là sô nguyên của dict cách nhau bởi dấu ',': \").split(',')))\n",
    "        if len(val) == n:\n",
    "            break\n",
    "        else:\n",
    "            print(f\"Vui lòng chỉ nhập đúng {n} key!\")\n",
    "            continue\n",
    "    dic = {}\n",
    "    for i in range(n):\n",
    "        dic[val[i]] = a[i]\n",
    "    return dic"
   ]
  },
  {
   "cell_type": "code",
   "execution_count": null,
   "id": "70a3a017",
   "metadata": {},
   "outputs": [],
   "source": [
    "# Yêu cầu 1.1.\n",
    "n = Nhap_n()\n",
    "a = Nhap_list(n)\n",
    "b = Nhap_list(n)\n",
    "print(f\"Print n = {n}\")\n",
    "print(f\"Danh sách a: {a}\")\n",
    "print(f\"Danh sách b: {b}\")"
   ]
  },
  {
   "cell_type": "code",
   "execution_count": 16,
   "id": "32f3a143",
   "metadata": {},
   "outputs": [
    {
     "name": "stdout",
     "output_type": "stream",
     "text": [
      "Vui lòng chỉ nhập đúng 3 key!\n",
      "Vui lòng chỉ nhập đúng 3 key!\n",
      "{1: 1.2, 2: 3.4, 3: 4.5}\n"
     ]
    }
   ],
   "source": [
    "# Yêu cầu 1.2.\n",
    "dic = Nhap_dict(a, n)\n",
    "print(dic)"
   ]
  },
  {
   "cell_type": "code",
   "execution_count": 21,
   "id": "2aa2679a",
   "metadata": {},
   "outputs": [
    {
     "name": "stdout",
     "output_type": "stream",
     "text": [
      "Trong từ điển có giá trị 1.2. Key của 1.2 là: \n",
      "1\n"
     ]
    }
   ],
   "source": [
    "# Yêu cầu 1.3.\n",
    "x = float(input(\"Nhập x = \"))\n",
    "if x in dic.values():\n",
    "    print(f\"Trong từ điển có giá trị {x}. Key của {x} là: \")\n",
    "    for i in dic.keys():\n",
    "        if dic[i] == x:\n",
    "            print(f\"{i}\")\n",
    "else:\n",
    "    s = []\n",
    "    for i in dic.keys():\n",
    "        if dic[i] > x:\n",
    "            s.append(dic[i])\n",
    "\n",
    "    avg = round(np.average(s), 3)\n",
    "    if math.isnan(avg):\n",
    "        print(f\"Không có value nào lớn hơn {x} trong dic.\")\n",
    "    else:\n",
    "        print(f\"Trong từ không điển có giá trị {x}.\\nTrung bình cộng các value có giá trị lơn x là: {avg}\")\n"
   ]
  },
  {
   "cell_type": "code",
   "execution_count": 24,
   "id": "e8746456",
   "metadata": {},
   "outputs": [
    {
     "name": "stdout",
     "output_type": "stream",
     "text": [
      "Trong dic không có value nào lớn hơn 2.34\n"
     ]
    }
   ],
   "source": [
    "# Yêu cầu 1.4.\n",
    "c = 0\n",
    "key = dic.keys()\n",
    "for i in key:\n",
    "    if dic[i] > 2.34:\n",
    "        dic.pop(i)\n",
    "        c += 1\n",
    "if c > 0:\n",
    "    print(f\"Đã xóa {c} item có value lớn hơn 2.34\")\n",
    "else:\n",
    "    print(f\"Trong dic không có value nào lớn hơn 2.34\")"
   ]
  },
  {
   "cell_type": "code",
   "execution_count": 15,
   "id": "3882c0c7",
   "metadata": {},
   "outputs": [],
   "source": [
    "# Câu 2.\n",
    "# Hàm nhập mảng\n",
    "def Nhap_array(n, typedata):\n",
    "    if (typedata == \"int\"):\n",
    "        while True:\n",
    "            try:\n",
    "                while True:\n",
    "                    a = list(map(int, input(f\"Nhập {n} số nguyên cách nhau bởi dấu ',': \").split(',')))\n",
    "                    if len(a) == n:\n",
    "                        break\n",
    "                    else:\n",
    "                        print(f\"Vui lòng chỉ nhập đúng {n} số nguyên!\")\n",
    "                        continue\n",
    "                return np.array(a)\n",
    "            except:\n",
    "                print(\"Bạn phải nhập đúng theo yêu cầu!\")  \n",
    "    if (typedata == \"float\"):\n",
    "        while True:\n",
    "            try:\n",
    "                while True:\n",
    "                    a = list(map(float, input(f\"Nhập {n} số thực cách nhau bởi dấu ',': \").split(',')))\n",
    "                    if len(a) == n:\n",
    "                        break\n",
    "                    else:\n",
    "                        print(f\"Vui lòng chỉ nhập đúng {n} số thực!\")\n",
    "                        continue\n",
    "                return np.array(a)\n",
    "            except:\n",
    "                print(\"Bạn phải nhập đúng theo yêu cầu!\")\n",
    "\n",
    "# hàm ghi file\n",
    "def write_file(filename, data1, data2):\n",
    "    with open(filename, mode=\"w\", encoding=\"utf-8\") as f:\n",
    "        for i in range(len(data1)):\n",
    "            f.write(f\"{data1[i]} \")\n",
    "        f.write(\"\\n\")\n",
    "        for i in range(len(data2)):\n",
    "            f.write(f\"{data2[i]} \")\n",
    "    print(\"Lưu file thành công!\")\n",
    "\n",
    "# Hàm vẽ scatter với trục x là các giá trị của mảng và trục y là index tương ứng\n",
    "def scatter_chart(data):\n",
    "    y = np.array([i for i in range(len(data))])\n",
    "    plt.figure(figsize=(10, 10))\n",
    "    plt.scatter(data, y, marker=\"*\", color = \"red\", label = \"Value\")\n",
    "    plt.title(\"Scatter chart\", fontweight = \"bold\", fontsize = 24)\n",
    "    plt.xlabel(\"Trục x\")\n",
    "    plt.ylabel(\"Trục y\")\n",
    "    plt.legend()\n",
    "    plt.grid(linestyle = \":\", linewidth = 1, axis=\"y\")\n",
    "    plt.show()"
   ]
  },
  {
   "cell_type": "code",
   "execution_count": 4,
   "id": "85ba8fa6",
   "metadata": {},
   "outputs": [
    {
     "name": "stdout",
     "output_type": "stream",
     "text": [
      "Mảng số nguyên: [1 2 3 4 5]\n",
      "Mảng số thực: [1.2 2.3 3.4 4.5 5.6]\n"
     ]
    }
   ],
   "source": [
    "# Yêu cầu 2.1.\n",
    "arr_int = Nhap_array(5, \"int\")\n",
    "arr_float = Nhap_array(5, \"float\")\n",
    "print(f\"Mảng số nguyên: {arr_int}\")\n",
    "print(f\"Mảng số thực: {arr_float}\")"
   ]
  },
  {
   "cell_type": "code",
   "execution_count": 16,
   "id": "88442a65",
   "metadata": {},
   "outputs": [
    {
     "name": "stdout",
     "output_type": "stream",
     "text": [
      "Vị trí các phần tử lẻ chia hết cho 3 trong mảng nguyên là: (array([3]),)\n",
      "Giá trị của phần tử lẻ chia hết cho 3 là: [3]\n",
      "Tổng của chúng là: 3\n"
     ]
    }
   ],
   "source": [
    "# Yêu cầu 2.2.\n",
    "arr_yc2 = np.where((arr_int % 2 != 0) & (arr_int % 3 == 0))\n",
    "print(f\"Vị trí các phần tử lẻ chia hết cho 3 trong mảng nguyên là: {arr_yc2}\")\n",
    "print(f\"Giá trị của phần tử lẻ chia hết cho 3 là: {arr_int[arr_yc2]}\")\n",
    "print(f\"Tổng của chúng là: {sum(arr_int[arr_yc2])}\")"
   ]
  },
  {
   "cell_type": "code",
   "execution_count": 25,
   "id": "e3451398",
   "metadata": {},
   "outputs": [
    {
     "name": "stdout",
     "output_type": "stream",
     "text": [
      "Mảng nguyên được sắp xếp giảm dần bằng quick sort: [5 4 3 2 1]\n",
      "Mảng nguyên được sắp xếp tăng dần bằng quick sort: [1.6 2.1 3.4 6.6 7.3]\n",
      "Lưu file thành công!\n"
     ]
    }
   ],
   "source": [
    "# Yêu cầu 2.3.\n",
    "arr_int.sort(kind=\"quicksort\")\n",
    "arr_int = arr_int[::-1]\n",
    "\n",
    "arr_float.sort(kind=\"quicksort\")\n",
    "print(f\"Mảng nguyên được sắp xếp giảm dần bằng quick sort: {arr_int}\")\n",
    "print(f\"Mảng nguyên được sắp xếp tăng dần bằng quick sort: {arr_float}\")\n",
    "write_file(\"D:/Documents/Ngon_ngu_lap_trinh_khoa_hoc_HaUI/KTHP/result_cau_2.txt\", arr_int, arr_float)"
   ]
  },
  {
   "cell_type": "code",
   "execution_count": 16,
   "id": "471e2e17",
   "metadata": {},
   "outputs": [
    {
     "data": {
      "image/png": "[encoded data removed]",
      "text/plain": [
       "<Figure size 1000x1000 with 1 Axes>"
      ]
     },
     "metadata": {},
     "output_type": "display_data"
    }
   ],
   "source": [
    "# Yêu cầu 2.4.\n",
    "scatter_chart(arr_float)"
   ]
  }
 ],
 "metadata": {
  "kernelspec": {
   "display_name": "Python 3",
   "language": "python",
   "name": "python3"
  },
  "language_info": {
   "codemirror_mode": {
    "name": "ipython",
    "version": 3
   },
   "file_extension": ".py",
   "mimetype": "text/x-python",
   "name": "python",
   "nbconvert_exporter": "python",
   "pygments_lexer": "ipython3",
   "version": "3.12.6"
  }
 },
 "nbformat": 4,
 "nbformat_minor": 5
}
