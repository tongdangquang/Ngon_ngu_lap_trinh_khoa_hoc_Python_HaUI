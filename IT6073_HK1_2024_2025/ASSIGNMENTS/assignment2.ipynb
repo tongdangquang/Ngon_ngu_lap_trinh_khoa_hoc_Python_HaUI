{
 "cells": [
  {
   "cell_type": "code",
   "execution_count": 1,
   "id": "9f6d518c",
   "metadata": {},
   "outputs": [],
   "source": [
    "import numpy as np\n",
    "import math"
   ]
  },
  {
   "cell_type": "code",
   "execution_count": 2,
   "id": "3a4c1d71",
   "metadata": {},
   "outputs": [],
   "source": [
    "def read(filename):\n",
    "    try:\n",
    "        with open(filename, mode=\"r\") as f:\n",
    "            x = []\n",
    "            while True:\n",
    "                line = f.readline()\n",
    "                if not line:\n",
    "                    break\n",
    "                x.append(line.split())\n",
    "            return np.array(x)\n",
    "    except:\n",
    "        print(\"File not found!\")\n",
    "        return"
   ]
  },
  {
   "cell_type": "code",
   "execution_count": 3,
   "id": "a52b9c3a",
   "metadata": {},
   "outputs": [],
   "source": [
    "def distance(x1, x2):\n",
    "    T = 0.0\n",
    "    if len(x1) == len(x2):\n",
    "        for i in range(len(x1)):\n",
    "            T += (x1[i] - x2[i])**2\n",
    "        return math.sqrt(T)\n",
    "    else:\n",
    "        print(\"Distance calculation error!\")\n",
    "        return"
   ]
  },
  {
   "cell_type": "code",
   "execution_count": 4,
   "id": "827da86b",
   "metadata": {},
   "outputs": [],
   "source": [
    "def distancetoall(x_train, x_test):\n",
    "    dis = np.zeros(len(x_train))\n",
    "    for i in range(len(x_train)):\n",
    "        dis[i] = distance(x_train[i], x_test)\n",
    "    return dis"
   ]
  },
  {
   "cell_type": "code",
   "execution_count": 5,
   "id": "3bba0864",
   "metadata": {},
   "outputs": [],
   "source": [
    "def predict(dis, label):\n",
    "    m = min(dis[np.where(dis > 0)])\n",
    "    minpos = np.where(dis == m)[0][0]\n",
    "    return label[minpos]"
   ]
  },
  {
   "cell_type": "code",
   "execution_count": null,
   "id": "d7acdf80",
   "metadata": {},
   "outputs": [],
   "source": [
    "x_train = read(\"D:/Documents/Ngon_ngu_lap_trinh_khoa_hoc_HaUI/IT6073_HK1_2024_2025/DATA/kddcup.data\")\n",
    "label = x_train[:, len(x_train[0]) - 1] # lấy cột cuối của x_train\n",
    "x_train = x_train[:, 4:len(x_train[0]) - 1].astype(float) # bỏ 4 cột đầu và cột cuối\n",
    "\n",
    "x_test = read(\"D:/Documents/Ngon_ngu_lap_trinh_khoa_hoc_HaUI/IT6073_HK1_2024_2025/DATA/kddcup.test\")\n",
    "x_test = x_test[:, 4:len(x_test[0]) - 1].astype(float)"
   ]
  },
  {
   "cell_type": "code",
   "execution_count": 7,
   "id": "b832343c",
   "metadata": {},
   "outputs": [
    {
     "name": "stdout",
     "output_type": "stream",
     "text": [
      "Dữ liệu thuộc lớp : neptune.\n"
     ]
    }
   ],
   "source": [
    "pos = int(input(\"Nhập bản ghi muốn dự báo lớp: \"))\n",
    "while (pos < 0 or pos >= len(x_test)):\n",
    "    pos = int(input(\"Vị trí bản ghi không hợp lệ, nhập bản ghi khác: \"))\n",
    "\n",
    "test = x_test[pos]\n",
    "dis = distancetoall(x_train, test)\n",
    "print(f\"Dữ liệu thuộc lớp : {predict(dis, label)}\")"
   ]
  }
 ],
 "metadata": {
  "kernelspec": {
   "display_name": "Python 3",
   "language": "python",
   "name": "python3"
  },
  "language_info": {
   "codemirror_mode": {
    "name": "ipython",
    "version": 3
   },
   "file_extension": ".py",
   "mimetype": "text/x-python",
   "name": "python",
   "nbconvert_exporter": "python",
   "pygments_lexer": "ipython3",
   "version": "3.12.6"
  }
 },
 "nbformat": 4,
 "nbformat_minor": 5
}
