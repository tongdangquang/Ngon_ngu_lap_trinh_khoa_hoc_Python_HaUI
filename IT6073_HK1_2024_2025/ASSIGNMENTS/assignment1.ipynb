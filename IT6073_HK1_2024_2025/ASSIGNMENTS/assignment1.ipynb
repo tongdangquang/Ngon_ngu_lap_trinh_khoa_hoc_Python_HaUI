{
 "cells": [
  {
   "cell_type": "code",
   "execution_count": 1,
   "id": "d15b0ffc",
   "metadata": {},
   "outputs": [],
   "source": [
    "import pandas as pd\n",
    "import numpy as np\n",
    "import matplotlib.pyplot as plt"
   ]
  },
  {
   "cell_type": "code",
   "execution_count": 9,
   "id": "6c3c830c",
   "metadata": {},
   "outputs": [],
   "source": [
    "def Nhap_n(): # hàm nhập số nguyên n\n",
    "    while True:\n",
    "        n = input(\"Nhập một số nguyên dương n: \")\n",
    "        if (not n.isdigit()) or (int(n) < 0):\n",
    "            print(\"Bạn phải nhập đúng số nguyên dương!\")\n",
    "            continue\n",
    "        return int(n)\n",
    "\n",
    "def Nhap_dic(n): # hàm nhập dic\n",
    "    dic = {}\n",
    "    print(\"Nhập từ cặp key: value\")\n",
    "    for i in range(n):\n",
    "        key = input(f\"Nhập key thứ {i + 1}: \")\n",
    "        value = input(f\"Nhập value thứ {i + 1}: \")\n",
    "        dic[key] = value\n",
    "    return dic"
   ]
  },
  {
   "cell_type": "code",
   "execution_count": 10,
   "id": "b9405e56",
   "metadata": {},
   "outputs": [
    {
     "name": "stdout",
     "output_type": "stream",
     "text": [
      "Nhập từ cặp key: value\n",
      "{'h001': '100', 'h002': '300'}\n"
     ]
    }
   ],
   "source": [
    "# Yêu cầu 1.\n",
    "n = Nhap_n()\n",
    "hang_dic = Nhap_dic(n)\n",
    "\n",
    "print(hang_dic)"
   ]
  },
  {
   "cell_type": "code",
   "execution_count": null,
   "id": "edfb69f4",
   "metadata": {},
   "outputs": [
    {
     "name": "stdout",
     "output_type": "stream",
     "text": [
      "Nhập từ cặp key: value\n",
      "{'ncc001': 'samsung', 'ncc002': 'apple'}\n"
     ]
    }
   ],
   "source": [
    "# Yêu cầu 2.\n",
    "m = Nhap_n()\n",
    "ncc_dic = Nhap_dic(m)\n",
    "\n",
    "print(ncc_dic)"
   ]
  },
  {
   "cell_type": "code",
   "execution_count": null,
   "id": "08360be2",
   "metadata": {},
   "outputs": [
    {
     "name": "stdout",
     "output_type": "stream",
     "text": [
      "Có tồn tại mã hàng H001 trong từ điển và đã thay thế H001 = 200\n",
      "Từ điển sau khi thay thế/thêm: \n",
      "{'H001': 200, 'H002': 0, 'H003': 20, 'H004': 150, 'H005': 30, 'H006': 0}\n"
     ]
    }
   ],
   "source": [
    "# Yêu cầu 3.\n",
    "# Để tránh mất thời gian nhập dữ liệu nên chúng ta khởi tạo sẵn 1 hang_dic\n",
    "n = 6\n",
    "hang_dic = {\n",
    "    'H001': 100,\n",
    "    'H002': 0,\n",
    "    'H003': 20,\n",
    "    'H004': 150,\n",
    "    'H005': 30,\n",
    "    'H006': 0\n",
    "}\n",
    "\n",
    "def ReplaceOrAdd_dic(dic, key, value):\n",
    "    if key in dic.keys():\n",
    "        dic[key] = value\n",
    "        print(f\"Có tồn tại mã hàng {key} trong từ điển và đã thay thế {key} = {value}\")\n",
    "    else:\n",
    "        dic[key] = value\n",
    "        print(f\"Không tồn tại {key} trong từ điển và đã bổ sung {key} = {value}!\")\n",
    "\n",
    "ReplaceOrAdd_dic(hang_dic, \"H001\", 200)\n",
    "print(f\"Từ điển sau khi thay thế/thêm: \\n{hang_dic}\")\n"
   ]
  },
  {
   "cell_type": "code",
   "execution_count": 22,
   "id": "92856b5e",
   "metadata": {},
   "outputs": [
    {
     "name": "stdout",
     "output_type": "stream",
     "text": [
      "Từ điển sau khi xóa các mã hàng có số lượng bằng 0:\n",
      "{'H001': 200, 'H003': 20, 'H004': 150, 'H005': 30}\n"
     ]
    }
   ],
   "source": [
    "# Yêu cầu 4.\n",
    "def Delete_dic(dic):\n",
    "    key = [x for x in dic.keys()]\n",
    "    for x in key:\n",
    "        if dic[x] == 0:\n",
    "            dic.pop(x)\n",
    "\n",
    "Delete_dic(hang_dic)\n",
    "print(f\"Từ điển sau khi xóa các mã hàng có số lượng bằng 0:\\n{hang_dic}\")"
   ]
  },
  {
   "cell_type": "code",
   "execution_count": 25,
   "id": "30780811",
   "metadata": {},
   "outputs": [
    {
     "name": "stdout",
     "output_type": "stream",
     "text": [
      "3 phần tử đầu tiên của list thứ nhất: \n",
      "['H001', 'H003', 'H004']\n",
      "3 phần tử cuối cùng của list thứ hai: \n",
      "[20, 150, 30]\n"
     ]
    }
   ],
   "source": [
    "# Yêu cầu 5.\n",
    "key_list = [x for x in hang_dic.keys()]\n",
    "value_list = [x for x in hang_dic.values()]\n",
    "\n",
    "if (len(key_list) >= 3):\n",
    "    print(f\"3 phần tử đầu tiên của list thứ nhất: \\n{key_list[:3]}\")\n",
    "else:\n",
    "    print(f\"List thứ nhất không đủ 3 phần tử!\")\n",
    "\n",
    "if (len(value_list) >= 3):\n",
    "     print(f\"3 phần tử cuối cùng của list thứ hai: \\n{value_list[-3:]}\")\n",
    "else:\n",
    "    print(f\"List thứ hai không đủ 3 phần tử!\")"
   ]
  }
 ],
 "metadata": {
  "kernelspec": {
   "display_name": "Python 3",
   "language": "python",
   "name": "python3"
  },
  "language_info": {
   "codemirror_mode": {
    "name": "ipython",
    "version": 3
   },
   "file_extension": ".py",
   "mimetype": "text/x-python",
   "name": "python",
   "nbconvert_exporter": "python",
   "pygments_lexer": "ipython3",
   "version": "3.12.6"
  }
 },
 "nbformat": 4,
 "nbformat_minor": 5
}
